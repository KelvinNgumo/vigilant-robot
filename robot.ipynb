{
 "cells": [
  {
   "cell_type": "markdown",
   "id": "454d3e6d",
   "metadata": {},
   "source": [
    "### Git "
   ]
  },
  {
   "cell_type": "code",
   "execution_count": null,
   "id": "1a8c8b90",
   "metadata": {},
   "outputs": [],
   "source": [
    "\"\"\"\n",
    "Our main agenda is to upload/push to gitHub\n",
    "\n",
    "Steps before pushing to gitHub:\n",
    "- make sure Git is initialised   = git init\n",
    "- Stage our files changes = git add <>file_name or git add . (for all files)\n",
    "- Taking a snapshot of the staged changes (with a Label) = git commit -m \"message\"\n",
    "\n",
    "- Uploading to Github = git push origin <name_of_branch> (usually main or master)\n",
    "\n",
    "\"\"\"\n",
    "\n",
    "\"git add remote origin <url_of_your_repo>\"\n"
   ]
  },
  {
   "cell_type": "markdown",
   "id": "f5ff6a2a",
   "metadata": {},
   "source": [
    "### Python File I/O\n",
    "Python's bulit in ways to opening/loading files. (Input and Output.)\n",
    "\n",
    "**Open()** is the dedicated function in python to load files.\n",
    "\n",
    "Syntax:\n",
    "\n",
    "open(filename, mode)\n",
    "\n",
    "**Mode**\n",
    "* 'r' --> read only\n",
    "* 'w' --> write only (If file exixt its overwritten, else if not existing , it creates a new file.)\n",
    "* 'r+' --> read and write\n",
    "* 'a' --> append only (going to write new data at the end of the file without erasing existing.)"
   ]
  },
  {
   "cell_type": "code",
   "execution_count": 27,
   "id": "78dba1f8",
   "metadata": {},
   "outputs": [
    {
     "data": {
      "text/html": [
       "<div>\n",
       "<style scoped>\n",
       "    .dataframe tbody tr th:only-of-type {\n",
       "        vertical-align: middle;\n",
       "    }\n",
       "\n",
       "    .dataframe tbody tr th {\n",
       "        vertical-align: top;\n",
       "    }\n",
       "\n",
       "    .dataframe thead th {\n",
       "        text-align: right;\n",
       "    }\n",
       "</style>\n",
       "<table border=\"1\" class=\"dataframe\">\n",
       "  <thead>\n",
       "    <tr style=\"text-align: right;\">\n",
       "      <th></th>\n",
       "      <th>Amsterdam</th>\n",
       "      <th>Berlin</th>\n",
       "      <th>Cairo</th>\n",
       "      <th>Durban</th>\n",
       "      <th>Eldoret</th>\n",
       "    </tr>\n",
       "  </thead>\n",
       "  <tbody>\n",
       "    <tr>\n",
       "      <th>0</th>\n",
       "      <td>100</td>\n",
       "      <td>266</td>\n",
       "      <td>345</td>\n",
       "      <td>465</td>\n",
       "      <td>459</td>\n",
       "    </tr>\n",
       "    <tr>\n",
       "      <th>1</th>\n",
       "      <td>154</td>\n",
       "      <td>257</td>\n",
       "      <td>633</td>\n",
       "      <td>476</td>\n",
       "      <td>545</td>\n",
       "    </tr>\n",
       "    <tr>\n",
       "      <th>2</th>\n",
       "      <td>189</td>\n",
       "      <td>259</td>\n",
       "      <td>371</td>\n",
       "      <td>413</td>\n",
       "      <td>524</td>\n",
       "    </tr>\n",
       "  </tbody>\n",
       "</table>\n",
       "</div>"
      ],
      "text/plain": [
       "   Amsterdam  Berlin  Cairo  Durban  Eldoret\n",
       "0        100     266    345     465      459\n",
       "1        154     257    633     476      545\n",
       "2        189     259    371     413      524"
      ]
     },
     "execution_count": 27,
     "metadata": {},
     "output_type": "execute_result"
    }
   ],
   "source": [
    "import pandas as pd\n",
    "import numpy as np\n",
    "\n",
    "pd.read_csv(\"./sample.csv\").head()\n",
    "\n",
    "\n"
   ]
  },
  {
   "cell_type": "code",
   "execution_count": 5,
   "id": "4f8d1863",
   "metadata": {},
   "outputs": [
    {
     "data": {
      "text/plain": [
       "'A,B,C,D,E\\n1,2,3,4,5\\n1,2,3,4,5\\n1,2,3,4,5'"
      ]
     },
     "execution_count": 5,
     "metadata": {},
     "output_type": "execute_result"
    }
   ],
   "source": [
    "x = open('sample.csv', 'r')\n",
    "x.read()\n"
   ]
  },
  {
   "cell_type": "code",
   "execution_count": 6,
   "id": "79b5edf6",
   "metadata": {},
   "outputs": [],
   "source": [
    "x.close()"
   ]
  },
  {
   "cell_type": "markdown",
   "id": "89c121ef",
   "metadata": {},
   "source": [
    "## 'with'\n",
    "\n",
    "This automatically opens and closes the file when using the open() function."
   ]
  },
  {
   "cell_type": "code",
   "execution_count": 24,
   "id": "a1fa8306",
   "metadata": {},
   "outputs": [
    {
     "name": "stdout",
     "output_type": "stream",
     "text": [
      "Amsterdam,Berlin,Cairo,Durban,Eldoret\n",
      "100,266,345,465,459\n",
      "154,257,633,476,545\n",
      "189,259,371,413,524\n"
     ]
    }
   ],
   "source": [
    "with open('sample.csv', 'r')as f:\n",
    "    print(f.read())"
   ]
  },
  {
   "cell_type": "code",
   "execution_count": 18,
   "id": "fe4cc346",
   "metadata": {},
   "outputs": [
    {
     "name": "stdout",
     "output_type": "stream",
     "text": [
      "100 266\n",
      "154 257\n",
      "189 259\n"
     ]
    }
   ],
   "source": [
    "import csv\n",
    "\n",
    "with open('sample.csv') as f:\n",
    "    reader = csv.DictReader(f)\n",
    "    #\n",
    "    for row in reader:\n",
    "        print(row['Amsterdam'], row['Berlin'])"
   ]
  },
  {
   "cell_type": "code",
   "execution_count": 19,
   "id": "e95c5241",
   "metadata": {},
   "outputs": [
    {
     "data": {
      "text/plain": [
       "pandas.core.frame.DataFrame"
      ]
     },
     "execution_count": 19,
     "metadata": {},
     "output_type": "execute_result"
    }
   ],
   "source": [
    "type(df)"
   ]
  },
  {
   "cell_type": "markdown",
   "id": "7619f2e9",
   "metadata": {},
   "source": [
    "## Create a new file and write to it"
   ]
  },
  {
   "cell_type": "code",
   "execution_count": 22,
   "id": "1cb452eb",
   "metadata": {},
   "outputs": [],
   "source": [
    "with open('cities.txt', 'w') as f:\n",
    "    f.write('Amsterdam | Berlin | Cairo')"
   ]
  },
  {
   "cell_type": "code",
   "execution_count": 23,
   "id": "a6e8bdac",
   "metadata": {},
   "outputs": [],
   "source": [
    "with open('cities.txt', 'w') as f:\n",
    "    f.write('Dallas | London | Cairo')"
   ]
  },
  {
   "cell_type": "code",
   "execution_count": 25,
   "id": "fae738ba",
   "metadata": {},
   "outputs": [],
   "source": [
    "from sklearn import datasets"
   ]
  },
  {
   "cell_type": "markdown",
   "id": "05c744af",
   "metadata": {},
   "source": [
    "## JSON\n",
    "\n",
    "This is Javascript Object Notation"
   ]
  },
  {
   "cell_type": "code",
   "execution_count": 4,
   "id": "3605c222",
   "metadata": {},
   "outputs": [
    {
     "name": "stdout",
     "output_type": "stream",
     "text": [
      "My_Jams\n"
     ]
    },
    {
     "data": {
      "text/plain": [
       "'My_Jams'"
      ]
     },
     "execution_count": 4,
     "metadata": {},
     "output_type": "execute_result"
    }
   ],
   "source": [
    "import json\n",
    "\n",
    "# with open to load json file\n",
    "with open('playlist.json', 'r') as f:\n",
    "    data = json.load(f)\n",
    "\n",
    "    print(data['playlist_name'])\n",
    "data['playlist_name']"
   ]
  },
  {
   "cell_type": "code",
   "execution_count": 6,
   "id": "1192b3b6",
   "metadata": {},
   "outputs": [
    {
     "data": {
      "text/plain": [
       "list"
      ]
     },
     "execution_count": 6,
     "metadata": {},
     "output_type": "execute_result"
    }
   ],
   "source": [
    "type(data['tracks'])"
   ]
  },
  {
   "cell_type": "code",
   "execution_count": 13,
   "id": "420d0800",
   "metadata": {},
   "outputs": [
    {
     "data": {
      "text/plain": [
       "str"
      ]
     },
     "execution_count": 13,
     "metadata": {},
     "output_type": "execute_result"
    }
   ],
   "source": [
    "# not recommended because everything will be read as string\n",
    "with open('playlist.json', 'r') as f:\n",
    "    dt = f.read()\n",
    "type(dt)"
   ]
  },
  {
   "cell_type": "markdown",
   "id": "f11dcd82",
   "metadata": {},
   "source": [
    "## Exploring JSON\n",
    "Now that we have loaded it, lets check what is held within it."
   ]
  },
  {
   "cell_type": "code",
   "execution_count": 14,
   "id": "2ec6d232",
   "metadata": {},
   "outputs": [
    {
     "data": {
      "text/plain": [
       "dict_keys(['playlist_name', 'created_by', 'tracks'])"
      ]
     },
     "execution_count": 14,
     "metadata": {},
     "output_type": "execute_result"
    }
   ],
   "source": [
    "data.keys()"
   ]
  },
  {
   "cell_type": "code",
   "execution_count": 15,
   "id": "a7d7e3a2",
   "metadata": {},
   "outputs": [
    {
     "data": {
      "text/plain": [
       "dict_items([('playlist_name', 'My_Jams'), ('created_by', 'Chacha'), ('tracks', [{'title': 'Stan', 'artist': 'Eminem', 'album': 'The Marshall Mathers LP', 'duration_sec': 405}, {'title': 'In Da Club', 'artist': '50 Cent', 'album': 'Get Rich or Die Tryin', 'duration_sec': 240}, {'title': 'Suzanna', 'artist': 'Sauti Sol', 'album': 'Midnight Train', 'duration_sec': 239}, {'title': 'Many Men', 'artist': '50 Cent', 'album': 'Get Rich or Die Tryin', 'duration_sec': 256}, {'title': 'Bad Liar', 'artist': 'Imagine Dragons', 'album': 'Origins', 'duration_sec': 243}])])"
      ]
     },
     "execution_count": 15,
     "metadata": {},
     "output_type": "execute_result"
    }
   ],
   "source": [
    "data.items()"
   ]
  },
  {
   "cell_type": "code",
   "execution_count": 17,
   "id": "3903b1c8",
   "metadata": {},
   "outputs": [
    {
     "data": {
      "text/plain": [
       "{'title': 'Suzanna',\n",
       " 'artist': 'Sauti Sol',\n",
       " 'album': 'Midnight Train',\n",
       " 'duration_sec': 239}"
      ]
     },
     "execution_count": 17,
     "metadata": {},
     "output_type": "execute_result"
    }
   ],
   "source": [
    "## Syntax fron accessing the 3rd song in the playlist\n",
    "data['tracks'][2]"
   ]
  },
  {
   "cell_type": "code",
   "execution_count": 19,
   "id": "863899d0",
   "metadata": {},
   "outputs": [
    {
     "data": {
      "text/plain": [
       "'Origins'"
      ]
     },
     "execution_count": 19,
     "metadata": {},
     "output_type": "execute_result"
    }
   ],
   "source": [
    "## syntax for accessing the album name of the last song in the playlist\n",
    "data['tracks'][-1]['album']"
   ]
  },
  {
   "cell_type": "markdown",
   "id": "a1ea9cf7",
   "metadata": {},
   "source": [
    "## Transforming JSON Schema\n",
    "Here we want to transform JSON into a flatter structure, which we can use for analysis"
   ]
  },
  {
   "cell_type": "code",
   "execution_count": null,
   "id": "077a0409",
   "metadata": {},
   "outputs": [],
   "source": [
    "\"\"\"\n",
    "Load the JSON file.\n",
    "iterate over the the tracks and create a new lsit from the data points.\n",
    " which in our case are [ 'title', 'artist', 'album', 'duration_sec' ]\n",
    "\n",
    "\"\"\"\n",
    "\n"
   ]
  },
  {
   "cell_type": "code",
   "execution_count": 22,
   "id": "0056103f",
   "metadata": {},
   "outputs": [
    {
     "data": {
      "text/html": [
       "<div>\n",
       "<style scoped>\n",
       "    .dataframe tbody tr th:only-of-type {\n",
       "        vertical-align: middle;\n",
       "    }\n",
       "\n",
       "    .dataframe tbody tr th {\n",
       "        vertical-align: top;\n",
       "    }\n",
       "\n",
       "    .dataframe thead th {\n",
       "        text-align: right;\n",
       "    }\n",
       "</style>\n",
       "<table border=\"1\" class=\"dataframe\">\n",
       "  <thead>\n",
       "    <tr style=\"text-align: right;\">\n",
       "      <th></th>\n",
       "      <th>title</th>\n",
       "      <th>artist</th>\n",
       "      <th>album</th>\n",
       "      <th>duration_sec</th>\n",
       "    </tr>\n",
       "  </thead>\n",
       "  <tbody>\n",
       "    <tr>\n",
       "      <th>0</th>\n",
       "      <td>Stan</td>\n",
       "      <td>Eminem</td>\n",
       "      <td>The Marshall Mathers LP</td>\n",
       "      <td>405</td>\n",
       "    </tr>\n",
       "    <tr>\n",
       "      <th>1</th>\n",
       "      <td>In Da Club</td>\n",
       "      <td>50 Cent</td>\n",
       "      <td>Get Rich or Die Tryin</td>\n",
       "      <td>240</td>\n",
       "    </tr>\n",
       "    <tr>\n",
       "      <th>2</th>\n",
       "      <td>Suzanna</td>\n",
       "      <td>Sauti Sol</td>\n",
       "      <td>Midnight Train</td>\n",
       "      <td>239</td>\n",
       "    </tr>\n",
       "    <tr>\n",
       "      <th>3</th>\n",
       "      <td>Many Men</td>\n",
       "      <td>50 Cent</td>\n",
       "      <td>Get Rich or Die Tryin</td>\n",
       "      <td>256</td>\n",
       "    </tr>\n",
       "    <tr>\n",
       "      <th>4</th>\n",
       "      <td>Bad Liar</td>\n",
       "      <td>Imagine Dragons</td>\n",
       "      <td>Origins</td>\n",
       "      <td>243</td>\n",
       "    </tr>\n",
       "  </tbody>\n",
       "</table>\n",
       "</div>"
      ],
      "text/plain": [
       "        title           artist                    album  duration_sec\n",
       "0        Stan           Eminem  The Marshall Mathers LP           405\n",
       "1  In Da Club          50 Cent    Get Rich or Die Tryin           240\n",
       "2     Suzanna        Sauti Sol           Midnight Train           239\n",
       "3    Many Men          50 Cent    Get Rich or Die Tryin           256\n",
       "4    Bad Liar  Imagine Dragons                  Origins           243"
      ]
     },
     "execution_count": 22,
     "metadata": {},
     "output_type": "execute_result"
    }
   ],
   "source": [
    "# using pandas to make it a CSV file\n",
    "import pandas as pd\n",
    "\n",
    "with open('playlist.json', 'r') as f:\n",
    "    playlist = json.load(f)\n",
    "\n",
    "df = pd.DataFrame(playlist['tracks'])\n",
    "\n",
    "df.to_csv('track.csv', index=False)\n",
    "\n",
    "df.head()"
   ]
  },
  {
   "cell_type": "code",
   "execution_count": null,
   "id": "dd10576d",
   "metadata": {},
   "outputs": [],
   "source": []
  }
 ],
 "metadata": {
  "kernelspec": {
   "display_name": "learn-env",
   "language": "python",
   "name": "python3"
  },
  "language_info": {
   "codemirror_mode": {
    "name": "ipython",
    "version": 3
   },
   "file_extension": ".py",
   "mimetype": "text/x-python",
   "name": "python",
   "nbconvert_exporter": "python",
   "pygments_lexer": "ipython3",
   "version": "3.8.5"
  }
 },
 "nbformat": 4,
 "nbformat_minor": 5
}
