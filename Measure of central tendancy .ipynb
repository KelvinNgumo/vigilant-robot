{
 "cells": [
  {
   "cell_type": "code",
   "execution_count": 5,
   "id": "84d1f0aa",
   "metadata": {},
   "outputs": [
    {
     "name": "stdout",
     "output_type": "stream",
     "text": [
      "Mean of the dataset: 18.0\n"
     ]
    }
   ],
   "source": [
    "#calculating the mean of a list of numbers (19,21,16,15,17,20,18)\n",
    "numbers = [19,21,16,15,17,20,18]\n",
    "def dataset_mean(numbers):\n",
    "    return sum(numbers) / len(numbers)\n",
    "mean_value = dataset_mean(numbers)\n",
    "print(\"Mean of the dataset:\", mean_value)\n",
    "\n",
    "    "
   ]
  },
  {
   "cell_type": "code",
   "execution_count": 9,
   "id": "e03204aa",
   "metadata": {},
   "outputs": [
    {
     "name": "stdout",
     "output_type": "stream",
     "text": [
      "Median of the dataset: 14\n"
     ]
    }
   ],
   "source": [
    "#median of a list of numbers\n",
    "numbers = [22,56,11,14,-17,6,80]\n",
    "def dataset_median(numbers):\n",
    "    sorted_numbers = sorted(numbers)\n",
    "    n = len(sorted_numbers)\n",
    "    mid = n // 2\n",
    "    if n % 2 == 0:\n",
    "        # Even number of elements: average the two middle values\n",
    "        return (sorted_numbers[mid - 1] + sorted_numbers[mid]) / 2  \n",
    "    else:\n",
    "        # Odd number of elements: return the middle value\n",
    "        return sorted_numbers[mid]\n",
    "median_value = dataset_median(numbers)\n",
    "print(\"Median of the dataset:\", median_value)\n"
   ]
  },
  {
   "cell_type": "code",
   "execution_count": 10,
   "id": "accc777f",
   "metadata": {},
   "outputs": [
    {
     "name": "stdout",
     "output_type": "stream",
     "text": [
      "<class 'list'>\n"
     ]
    }
   ],
   "source": [
    "x = [7, 8, 9]\n",
    "print(type(x[:1]))"
   ]
  },
  {
   "cell_type": "code",
   "execution_count": 11,
   "id": "65e81149",
   "metadata": {},
   "outputs": [
    {
     "name": "stdout",
     "output_type": "stream",
     "text": [
      "<class 'int'>\n"
     ]
    }
   ],
   "source": [
    "x, y, z = \"7\", \"8\", \"9\"\n",
    "print(type(int(x)))"
   ]
  },
  {
   "cell_type": "code",
   "execution_count": 12,
   "id": "0b5e146c",
   "metadata": {},
   "outputs": [
    {
     "name": "stdout",
     "output_type": "stream",
     "text": [
      "<class 'str'>\n"
     ]
    }
   ],
   "source": [
    "x, y, z = 7, 8, 9\n",
    "print(type(str(x)))"
   ]
  },
  {
   "cell_type": "code",
   "execution_count": 13,
   "id": "4acfb9da",
   "metadata": {},
   "outputs": [
    {
     "name": "stdout",
     "output_type": "stream",
     "text": [
      "<class 'int'>\n"
     ]
    }
   ],
   "source": [
    "x, y, z = 7, 8, 9\n",
    "print(type((x)))"
   ]
  },
  {
   "cell_type": "code",
   "execution_count": 14,
   "id": "d1312c46",
   "metadata": {},
   "outputs": [
    {
     "name": "stdout",
     "output_type": "stream",
     "text": [
      "<class 'str'>\n"
     ]
    }
   ],
   "source": [
    "x = \"789\"\n",
    "print(type(x[2]))"
   ]
  },
  {
   "cell_type": "code",
   "execution_count": 15,
   "id": "cadac159",
   "metadata": {},
   "outputs": [
    {
     "name": "stdout",
     "output_type": "stream",
     "text": [
      "<class 'dict_values'>\n"
     ]
    }
   ],
   "source": [
    "x = {\"first\": 7, \"second\": 8, \"third\": 9}\n",
    "print(type(x.values()))"
   ]
  },
  {
   "cell_type": "code",
   "execution_count": 17,
   "id": "2ac85c39",
   "metadata": {},
   "outputs": [
    {
     "name": "stdout",
     "output_type": "stream",
     "text": [
      "Hello\n"
     ]
    }
   ],
   "source": [
    "time = 8000\n",
    "if time < 1200:\n",
    "    print(\"Good morning\")\n",
    "else:\n",
    "    print(\"Hello\")"
   ]
  },
  {
   "cell_type": "code",
   "execution_count": 20,
   "id": "a3d711f3",
   "metadata": {},
   "outputs": [
    {
     "data": {
      "text/plain": [
       "11"
      ]
     },
     "execution_count": 20,
     "metadata": {},
     "output_type": "execute_result"
    }
   ],
   "source": [
    "x = 3\n",
    "while (x < 10):\n",
    "    x += 2\n",
    "x"
   ]
  },
  {
   "cell_type": "code",
   "execution_count": 22,
   "id": "ec9f27a6",
   "metadata": {},
   "outputs": [
    {
     "name": "stdout",
     "output_type": "stream",
     "text": [
      "one\n",
      "three\n"
     ]
    }
   ],
   "source": [
    "def one():\n",
    "    print(\"one\")\n",
    "\n",
    "def two():\n",
    "    return \"two\"\n",
    "\n",
    "def three():\n",
    "    one()\n",
    "    two()\n",
    "    print(\"three\")\n",
    "\n",
    "three()"
   ]
  },
  {
   "cell_type": "code",
   "execution_count": null,
   "id": "2aa5df5c",
   "metadata": {},
   "outputs": [],
   "source": []
  }
 ],
 "metadata": {
  "kernelspec": {
   "display_name": "Python (learn-env)",
   "language": "python",
   "name": "learn-env"
  },
  "language_info": {
   "codemirror_mode": {
    "name": "ipython",
    "version": 3
   },
   "file_extension": ".py",
   "mimetype": "text/x-python",
   "name": "python",
   "nbconvert_exporter": "python",
   "pygments_lexer": "ipython3",
   "version": "3.8.5"
  }
 },
 "nbformat": 4,
 "nbformat_minor": 5
}
