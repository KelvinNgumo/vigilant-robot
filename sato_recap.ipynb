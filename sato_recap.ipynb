{
 "cells": [
  {
   "cell_type": "code",
   "execution_count": null,
   "id": "9fbcd959",
   "metadata": {},
   "outputs": [],
   "source": [
    "\"\"\"\n",
    "\n",
    "\n",
    "\"\"\""
   ]
  },
  {
   "cell_type": "markdown",
   "id": "9b8df443",
   "metadata": {},
   "source": [
    "### Covariance and correlation"
   ]
  },
  {
   "cell_type": "markdown",
   "id": "89aea1ec",
   "metadata": {},
   "source": [
    "### List and dictionary comprehension."
   ]
  },
  {
   "cell_type": "code",
   "execution_count": 2,
   "id": "925df19f",
   "metadata": {},
   "outputs": [
    {
     "data": {
      "text/plain": [
       "[4, 9, 25, 49, 121, 169, 289, 361]"
      ]
     },
     "execution_count": 2,
     "metadata": {},
     "output_type": "execute_result"
    }
   ],
   "source": [
    "## List and dictionary comprehension.\n",
    "\n",
    "prime_numbers = [2,3,5,7,11,13,17,19]\n",
    "\n",
    "# create new list with squared prime numbers\n",
    "loop_squared = []\n",
    "\n",
    "for prime_number in prime_numbers:\n",
    "    squared = prime_number ** 2\n",
    "    loop_squared.append(squared)\n",
    "loop_squared"
   ]
  },
  {
   "cell_type": "code",
   "execution_count": 5,
   "id": "45696fc6",
   "metadata": {},
   "outputs": [
    {
     "data": {
      "text/plain": [
       "[4, 9, 25, 49, 121, 169, 289, 361]"
      ]
     },
     "execution_count": 5,
     "metadata": {},
     "output_type": "execute_result"
    }
   ],
   "source": [
    "comprehension_squard = [prime_number ** 2 for prime_number in prime_numbers]\n",
    "\n",
    "comprehension_squard"
   ]
  },
  {
   "cell_type": "code",
   "execution_count": null,
   "id": "f6be1062",
   "metadata": {},
   "outputs": [],
   "source": []
  }
 ],
 "metadata": {
  "kernelspec": {
   "display_name": "learn-env",
   "language": "python",
   "name": "python3"
  },
  "language_info": {
   "codemirror_mode": {
    "name": "ipython",
    "version": 3
   },
   "file_extension": ".py",
   "mimetype": "text/x-python",
   "name": "python",
   "nbconvert_exporter": "python",
   "pygments_lexer": "ipython3",
   "version": "3.8.5"
  }
 },
 "nbformat": 4,
 "nbformat_minor": 5
}
